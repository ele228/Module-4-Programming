{
 "cells": [
  {
   "cell_type": "markdown",
   "id": "1f62607a-9ad5-4796-99ba-0097890dd038",
   "metadata": {},
   "source": [
    "16.1-16.7 to build into 16.8"
   ]
  },
  {
   "cell_type": "code",
   "execution_count": 7,
   "id": "4ea463c0-cd6b-4912-837c-3136bd73e115",
   "metadata": {},
   "outputs": [
    {
     "ename": "SyntaxError",
     "evalue": "unterminated string literal (detected at line 5) (2716340472.py, line 4)",
     "output_type": "error",
     "traceback": [
      "\u001b[0;36m  Cell \u001b[0;32mIn[7], line 4\u001b[0;36m\u001b[0m\n\u001b[0;31m    f.write('Lynne Truss,\"Eats, Shoots & Leaves\"\\\u001b[0m\n\u001b[0m            ^\u001b[0m\n\u001b[0;31mSyntaxError\u001b[0m\u001b[0;31m:\u001b[0m unterminated string literal (detected at line 5)\n"
     ]
    }
   ],
   "source": [
    "with open('books.csv', 'w', encoding='utf-8') as f:\r\n",
    "    f.write('author,book\\n')\r\n",
    "    f.write('J R R Tolkien,The Hobbit\\n')\r\n",
    "    f.write('Lynne Truss,\"Eats, Shoots & Leaves\"\\\n",
    "----------------------------------------------------------\n",
    "import csv\n",
    "\n",
    "with open('books.csv', newline='', encoding='utf-8') as f:\n",
    "    books = csv.DictReader(f)\n",
    "    for book in books:\n",
    "        print(book)\n",
    "-----------------------------------------------------------\n",
    "with open('books2.csv', 'w', encoding='utf-8') as f:\n",
    "    f.write('title,author,year\\n')\n",
    "    f.write('The Weirdstone of Brisingamen,Alan Garner,1960\\n')\n",
    "    f.write('Perdido Street Station,China Miéville,2000\\n')\n",
    "    f.write('Thud!,Terry Pratchett,2005\\n')\n",
    "    f.write('The Spellman Files,Lisa Lutz,2007\\n')\n",
    "    f.write('Small Gods,Terry Pratchett,1992\\n')\n",
    "-----------------------------------------------------------\n",
    "import sqlite3\n",
    "\n",
    "conn = sqlite3.connect('books.db')\n",
    "cur = conn.cursor()\n",
    "\n",
    "cur.execute('''\n",
    "    CREATE TABLE books (\n",
    "        title TEXT,\n",
    "        author TEXT,\n",
    "        year INTEGER\n",
    "    )\n",
    "''')\n",
    "\n",
    "conn.commit()\n",
    "conn.close()\n",
    "-----------------------------------------------------------\n",
    "import csv\n",
    "import sqlite3\n",
    "\n",
    "conn = sqlite3.connect('books.db')\n",
    "cur = conn.cursor()\n",
    "\n",
    "with open('books2.csv', newline='', encoding='utf-8') as f:\n",
    "    books = csv.DictReader(f)\n",
    "    for book in books:\n",
    "        cur.execute(\n",
    "            'INSERT INTO books (title, author, year) VALUES (?, ?, ?)',\n",
    "            (book['title'], book['author'], int(book['year']))\n",
    "        )\n",
    "\n",
    "conn.commit()\n",
    "conn.close()\n",
    "---------------------------------------------------------------\n",
    "import sqlite3\n",
    "\n",
    "conn = sqlite3.connect('books.db')\n",
    "cur = conn.cursor()\n",
    "\n",
    "cur.execute('SELECT title FROM books ORDER BY title')\n",
    "rows = cur.fetchall()\n",
    "\n",
    "for row in rows:\n",
    "    print(row[0])\n",
    "\n",
    "conn.close()\n",
    "----------------------------------------------------------------\n",
    "import sqlite3\n",
    "\n",
    "conn = sqlite3.connect('books.db')\n",
    "cur = conn.cursor()\n",
    "\n",
    "cur.execute('SELECT title, author, year FROM books ORDER BY year')\n",
    "rows = cur.fetchall()\n",
    "\n",
    "for row in rows:\n",
    "    print(row)\n",
    "\n",
    "conn.close()n')"
   ]
  },
  {
   "cell_type": "markdown",
   "id": "055c2855-0ab7-4526-a97d-2525163b431f",
   "metadata": {},
   "source": [
    "16.8"
   ]
  },
  {
   "cell_type": "code",
   "execution_count": 6,
   "id": "3dd95c24-8f98-410f-bcfd-cba8160ab633",
   "metadata": {},
   "outputs": [
    {
     "ename": "KeyError",
     "evalue": "'books'",
     "output_type": "error",
     "traceback": [
      "\u001b[0;31m---------------------------------------------------------------------------\u001b[0m",
      "\u001b[0;31mKeyError\u001b[0m                                  Traceback (most recent call last)",
      "Cell \u001b[0;32mIn[6], line 7\u001b[0m\n\u001b[1;32m      4\u001b[0m metadata \u001b[38;5;241m=\u001b[39m MetaData()\n\u001b[1;32m      5\u001b[0m metadata\u001b[38;5;241m.\u001b[39mreflect(bind\u001b[38;5;241m=\u001b[39mengine)\n\u001b[0;32m----> 7\u001b[0m book_table \u001b[38;5;241m=\u001b[39m \u001b[43mmetadata\u001b[49m\u001b[38;5;241;43m.\u001b[39;49m\u001b[43mtables\u001b[49m\u001b[43m[\u001b[49m\u001b[38;5;124;43m'\u001b[39;49m\u001b[38;5;124;43mbooks\u001b[39;49m\u001b[38;5;124;43m'\u001b[39;49m\u001b[43m]\u001b[49m\n\u001b[1;32m      9\u001b[0m stmt \u001b[38;5;241m=\u001b[39m select(book_table\u001b[38;5;241m.\u001b[39mc\u001b[38;5;241m.\u001b[39mtitle)\u001b[38;5;241m.\u001b[39morder_by(book_table\u001b[38;5;241m.\u001b[39mc\u001b[38;5;241m.\u001b[39mtitle)\n\u001b[1;32m     11\u001b[0m \u001b[38;5;28;01mwith\u001b[39;00m engine\u001b[38;5;241m.\u001b[39mconnect() \u001b[38;5;28;01mas\u001b[39;00m conn:\n",
      "\u001b[0;31mKeyError\u001b[0m: 'books'"
     ]
    }
   ],
   "source": [
    "from sqlalchemy import create_engine, MetaData, select\n",
    "\n",
    "engine = create_engine('sqlite:///books.db')\n",
    "metadata = MetaData()\n",
    "metadata.reflect(bind=engine)\n",
    "\n",
    "book_table = metadata.tables['books']\n",
    "\n",
    "stmt = select(book_table.c.title).order_by(book_table.c.title)\n",
    "\n",
    "with engine.connect() as conn:\n",
    "    result = conn.execute(stmt)\n",
    "    for row in result:\n",
    "        print(row.title)"
   ]
  },
  {
   "cell_type": "code",
   "execution_count": null,
   "id": "1b4e8bb3-e136-48f4-8612-e343545dce26",
   "metadata": {},
   "outputs": [],
   "source": []
  }
 ],
 "metadata": {
  "kernelspec": {
   "display_name": "anaconda-2024.02-py310",
   "language": "python",
   "name": "conda-env-anaconda-2024.02-py310-py"
  },
  "language_info": {
   "codemirror_mode": {
    "name": "ipython",
    "version": 3
   },
   "file_extension": ".py",
   "mimetype": "text/x-python",
   "name": "python",
   "nbconvert_exporter": "python",
   "pygments_lexer": "ipython3",
   "version": "3.10.14"
  }
 },
 "nbformat": 4,
 "nbformat_minor": 5
}
